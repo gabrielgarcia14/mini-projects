{
 "cells": [
  {
   "cell_type": "code",
   "execution_count": 1,
   "metadata": {},
   "outputs": [],
   "source": [
    "import requests\n",
    "import json\n",
    "import pandas as pd"
   ]
  },
  {
   "cell_type": "code",
   "execution_count": 2,
   "metadata": {},
   "outputs": [],
   "source": [
    "url = \"https://www.binance.com/exchange-api/v2/public/asset-service/product/get-products\"\n",
    "data = requests.get(url).json()"
   ]
  },
  {
   "cell_type": "code",
   "execution_count": 3,
   "metadata": {},
   "outputs": [],
   "source": [
    "def human_format(num):\n",
    "    magnitude = 0\n",
    "    while abs(num) >= 1000:\n",
    "        magnitude += 1\n",
    "        num /= 1000.0\n",
    "    return '%.2f%s' % (num, ['', 'k', 'M', 'B', 'T'][magnitude])\n",
    "\n",
    "def get_crypto_data(data, i):\n",
    "    symbol = data['data'][i]['s']\n",
    "    coin = data['data'][i]['b']\n",
    "    base_coin = data['data'][i]['q']\n",
    "    try:\n",
    "        price = float(data['data'][i]['c'])\n",
    "    except:\n",
    "        price = None\n",
    "    try:\n",
    "        volume = int(data['data'][i]['cs'])\n",
    "    except:\n",
    "        volume = None\n",
    "    \n",
    "    #market_cap = price*volume\n",
    "\n",
    "    return symbol, coin, base_coin, price, volume"
   ]
  },
  {
   "cell_type": "code",
   "execution_count": 4,
   "metadata": {},
   "outputs": [],
   "source": [
    "index_list = []\n",
    "for i in range(len(data['data'])):\n",
    "    index_list.append(get_crypto_data(data, i))"
   ]
  },
  {
   "cell_type": "code",
   "execution_count": 5,
   "metadata": {},
   "outputs": [],
   "source": [
    "cols = ['symbol', 'coin', 'base_coin', 'price', 'volume']\n",
    "df_crypto = pd.DataFrame(index_list, columns = cols)"
   ]
  },
  {
   "cell_type": "code",
   "execution_count": 6,
   "metadata": {},
   "outputs": [],
   "source": [
    "# Get only binance Stablecoins pairs\n",
    "df_crypto = df_crypto[df_crypto['base_coin'].isin(['BUSD'])].reset_index(drop = True)"
   ]
  },
  {
   "cell_type": "code",
   "execution_count": 7,
   "metadata": {},
   "outputs": [],
   "source": [
    "# Fiat crypto volume is equal to 0\n",
    "df_crypto['volume'] = df_crypto['volume'].fillna(0)"
   ]
  },
  {
   "cell_type": "code",
   "execution_count": 8,
   "metadata": {},
   "outputs": [],
   "source": [
    "# Calculate market capitalization for every coin\n",
    "df_crypto['marketcap'] = df_crypto['price'] * df_crypto['volume']"
   ]
  },
  {
   "cell_type": "code",
   "execution_count": 9,
   "metadata": {},
   "outputs": [],
   "source": [
    "df_crypto = df_crypto.sort_values(by = 'marketcap', ascending = False).reset_index(drop = True)"
   ]
  },
  {
   "cell_type": "code",
   "execution_count": 10,
   "metadata": {},
   "outputs": [],
   "source": [
    "df_crypto_final = df_crypto.head(10).drop(columns = ['base_coin', 'symbol']).set_index('coin')"
   ]
  },
  {
   "cell_type": "code",
   "execution_count": 11,
   "metadata": {},
   "outputs": [],
   "source": [
    "# Change pandas default format to one that is easier to read\n",
    "pd.set_option('display.float_format', lambda x: f'{human_format(x)}')"
   ]
  },
  {
   "cell_type": "code",
   "execution_count": 12,
   "metadata": {},
   "outputs": [],
   "source": [
    "body_message = f\"Hello!! Here's an update of the top 10 cryptocurrencies on Binance:\\n\\n\\\n",
    "{str(df_crypto_final)}\""
   ]
  },
  {
   "cell_type": "code",
   "execution_count": 14,
   "metadata": {},
   "outputs": [
    {
     "data": {
      "text/html": [
       "<div>\n",
       "<style scoped>\n",
       "    .dataframe tbody tr th:only-of-type {\n",
       "        vertical-align: middle;\n",
       "    }\n",
       "\n",
       "    .dataframe tbody tr th {\n",
       "        vertical-align: top;\n",
       "    }\n",
       "\n",
       "    .dataframe thead th {\n",
       "        text-align: right;\n",
       "    }\n",
       "</style>\n",
       "<table border=\"1\" class=\"dataframe\">\n",
       "  <thead>\n",
       "    <tr style=\"text-align: right;\">\n",
       "      <th></th>\n",
       "      <th>price</th>\n",
       "      <th>volume</th>\n",
       "      <th>marketcap</th>\n",
       "    </tr>\n",
       "    <tr>\n",
       "      <th>coin</th>\n",
       "      <th></th>\n",
       "      <th></th>\n",
       "      <th></th>\n",
       "    </tr>\n",
       "  </thead>\n",
       "  <tbody>\n",
       "    <tr>\n",
       "      <th>BTC</th>\n",
       "      <td>22.38k</td>\n",
       "      <td>19.31M</td>\n",
       "      <td>432.04B</td>\n",
       "    </tr>\n",
       "    <tr>\n",
       "      <th>ETH</th>\n",
       "      <td>1.56k</td>\n",
       "      <td>122.37M</td>\n",
       "      <td>191.04B</td>\n",
       "    </tr>\n",
       "    <tr>\n",
       "      <th>BNB</th>\n",
       "      <td>286.30</td>\n",
       "      <td>157.89M</td>\n",
       "      <td>45.21B</td>\n",
       "    </tr>\n",
       "    <tr>\n",
       "      <th>XRP</th>\n",
       "      <td>0.36</td>\n",
       "      <td>50.95B</td>\n",
       "      <td>18.43B</td>\n",
       "    </tr>\n",
       "    <tr>\n",
       "      <th>ADA</th>\n",
       "      <td>0.33</td>\n",
       "      <td>34.68B</td>\n",
       "      <td>11.57B</td>\n",
       "    </tr>\n",
       "    <tr>\n",
       "      <th>DOGE</th>\n",
       "      <td>0.07</td>\n",
       "      <td>132.67B</td>\n",
       "      <td>9.79B</td>\n",
       "    </tr>\n",
       "    <tr>\n",
       "      <th>MATIC</th>\n",
       "      <td>1.12</td>\n",
       "      <td>8.73B</td>\n",
       "      <td>9.78B</td>\n",
       "    </tr>\n",
       "    <tr>\n",
       "      <th>SOL</th>\n",
       "      <td>20.82</td>\n",
       "      <td>382.28M</td>\n",
       "      <td>7.96B</td>\n",
       "    </tr>\n",
       "    <tr>\n",
       "      <th>DOT</th>\n",
       "      <td>5.90</td>\n",
       "      <td>1.16B</td>\n",
       "      <td>6.87B</td>\n",
       "    </tr>\n",
       "    <tr>\n",
       "      <th>LTC</th>\n",
       "      <td>88.81</td>\n",
       "      <td>72.41M</td>\n",
       "      <td>6.43B</td>\n",
       "    </tr>\n",
       "  </tbody>\n",
       "</table>\n",
       "</div>"
      ],
      "text/plain": [
       "       price  volume  marketcap\n",
       "coin                           \n",
       "BTC   22.38k  19.31M    432.04B\n",
       "ETH    1.56k 122.37M    191.04B\n",
       "BNB   286.30 157.89M     45.21B\n",
       "XRP     0.36  50.95B     18.43B\n",
       "ADA     0.33  34.68B     11.57B\n",
       "DOGE    0.07 132.67B      9.79B\n",
       "MATIC   1.12   8.73B      9.78B\n",
       "SOL    20.82 382.28M      7.96B\n",
       "DOT     5.90   1.16B      6.87B\n",
       "LTC    88.81  72.41M      6.43B"
      ]
     },
     "execution_count": 14,
     "metadata": {},
     "output_type": "execute_result"
    }
   ],
   "source": [
    "df_crypto_final"
   ]
  },
  {
   "cell_type": "code",
   "execution_count": 15,
   "metadata": {},
   "outputs": [
    {
     "name": "stdout",
     "output_type": "stream",
     "text": [
      "SMa5ab22925ab732a0857e38b9698e4337\n"
     ]
    }
   ],
   "source": [
    "from twilio.rest import Client \n",
    " \n",
    "account_sid = 'AC93ba471496881f9cc0db3202baec8afc' \n",
    "auth_token = 'zzZzzzZZzzzzZzZZZ' \n",
    "client = Client(account_sid, auth_token) \n",
    " \n",
    "message = client.messages.create( \n",
    "                              from_='whatsapp:+14155238886',  \n",
    "                              body= body_message,      \n",
    "                              to='whatsapp:+573502695238' \n",
    "                          ) \n",
    " \n",
    "print(message.sid)"
   ]
  }
 ],
 "metadata": {
  "kernelspec": {
   "display_name": "databo",
   "language": "python",
   "name": "python3"
  },
  "language_info": {
   "codemirror_mode": {
    "name": "ipython",
    "version": 3
   },
   "file_extension": ".py",
   "mimetype": "text/x-python",
   "name": "python",
   "nbconvert_exporter": "python",
   "pygments_lexer": "ipython3",
   "version": "3.10.9"
  },
  "orig_nbformat": 4,
  "vscode": {
   "interpreter": {
    "hash": "09237be4e90f0148771b1ff9072aef188d279b0f4115768753ac2ccc6993feea"
   }
  }
 },
 "nbformat": 4,
 "nbformat_minor": 2
}
